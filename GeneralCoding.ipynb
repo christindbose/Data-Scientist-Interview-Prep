{
 "cells": [
  {
   "cell_type": "markdown",
   "metadata": {},
   "source": [
    "### General Coding Practice "
   ]
  },
  {
   "cell_type": "code",
   "execution_count": 1,
   "metadata": {},
   "outputs": [],
   "source": [
    "import numpy as np "
   ]
  },
  {
   "cell_type": "markdown",
   "metadata": {},
   "source": [
    "1. Fizzbuzz\n",
    "- If it’s a multiplier of 3, print “fizz”, If it’s a multiplier of 5, print “buzz”, If both 3 and 5 — “fizzbuzz\"\n",
    "- Otherwise, print the number itself "
   ]
  },
  {
   "cell_type": "code",
   "execution_count": null,
   "metadata": {},
   "outputs": [],
   "source": [
    "def fizzbuzz(num): \n",
    "    if num%3==0 and num%5==0: \n",
    "        return (\"fizzbuzz\")\n",
    "    \n",
    "    elif num%3 == 0 : \n",
    "        return (\"fizz\")\n",
    "    elif num% 5==0 : \n",
    "        return (\"buzz\")\n",
    "    \n",
    "    else: \n",
    "        return (num)\n",
    "    \n",
    "for i in range(1,35): \n",
    "    print (fizzbuzz (i))"
   ]
  },
  {
   "cell_type": "markdown",
   "metadata": {},
   "source": [
    "2. Factorial and square root\n"
   ]
  },
  {
   "cell_type": "code",
   "execution_count": 3,
   "metadata": {},
   "outputs": [
    {
     "data": {
      "text/plain": [
       "2.23606797749979"
      ]
     },
     "execution_count": 3,
     "metadata": {},
     "output_type": "execute_result"
    }
   ],
   "source": [
    "def factorial(num): \n",
    "    if num > 0: \n",
    "        out= 1 \n",
    "        for i in range (1,num+1): \n",
    "            out=  out*i\n",
    "        return out\n",
    "    else: \n",
    "        return \"Greater than 0 number needed\"\n",
    "    \n",
    "factorial (5)\n",
    "\n",
    "def sqrt(num): \n",
    "    return (num **.5)\n",
    "\n",
    "sqrt(5)"
   ]
  },
  {
   "cell_type": "markdown",
   "metadata": {},
   "source": [
    "3. Mean : \n",
    "\n",
    "<img src=\"https://hackernoon.com/images/null-zn23ydw.jpg\" align= \"left\" style=\"width: 250px; \"/>"
   ]
  },
  {
   "cell_type": "markdown",
   "metadata": {},
   "source": [
    "Standard Deviation : \n",
    "\n",
    "<img src=\"https://hackernoon.com/images/9dIPwnQunrTNBXYIHjDDakIguip1-3nbx3yiw.jpg\" align= \"left\" style=\"width: 200px; \"/>\n",
    "\n"
   ]
  },
  {
   "cell_type": "markdown",
   "metadata": {},
   "source": [
    "Median "
   ]
  },
  {
   "cell_type": "code",
   "execution_count": 200,
   "metadata": {},
   "outputs": [
    {
     "data": {
      "text/plain": [
       "-3.5"
      ]
     },
     "execution_count": 200,
     "metadata": {},
     "output_type": "execute_result"
    }
   ],
   "source": [
    "def mean(numbers): \n",
    "    if len(numbers)>0: \n",
    "        return (np.sum(numbers)/len(numbers))\n",
    "    else: \n",
    "        return float('nan')\n",
    "    \n",
    "def std (number):\n",
    "    if len(number)>0: \n",
    "        mean_number= mean(number)\n",
    "        return (np.sqrt(np.sum((number- mean_number)**2)/(len(number)-1)))\n",
    "mean([4, 36, 45, 50, 75])\n",
    "# mean([])\n",
    "std([1, 2, 3, 4])\n",
    "\n",
    "\n",
    "def median (numbers): \n",
    "    sorted_num= np.sort(numbers)\n",
    "    lenlist= len(sorted_num)\n",
    "    mid= lenlist//2\n",
    "    \n",
    "    if lenlist%2 != 0: \n",
    "        return (sorted_num[mid])\n",
    "        \n",
    "    elif lenlist %2 == 0: \n",
    "        return((sorted_num[mid-1]+ sorted_num[mid])/2.0)\n",
    "\n",
    "        \n",
    "median([-5, -5, -3, -4, 0,-1])\n",
    "# np.median([-5, -5, -3, -4, 0,-1])"
   ]
  },
  {
   "cell_type": "markdown",
   "metadata": {},
   "source": [
    "4. RMSE\n",
    "\n",
    "<img src=\"https://hackernoon.com/images/9dIPwnQunrTNBXYIHjDDakIguip1-scfu3y3m.jpg\" align= \"left\" style=\"width: 250px; \"/>\n"
   ]
  },
  {
   "cell_type": "code",
   "execution_count": 5,
   "metadata": {},
   "outputs": [
    {
     "data": {
      "text/plain": [
       "1.632993161855452"
      ]
     },
     "execution_count": 5,
     "metadata": {},
     "output_type": "execute_result"
    }
   ],
   "source": [
    "def rmse (list1, list2): \n",
    "    if len(list1)==len(list2): \n",
    "        diff_square= (np.array(list1)-np.array(list2))**2\n",
    "        return (np.sqrt(np.sum(diff_square)/ len(list1)))\n",
    "    \n",
    "rmse([1, 2, 3], [3, 2, 1])"
   ]
  },
  {
   "cell_type": "markdown",
   "metadata": {},
   "source": [
    "5. Remove Duplicates and Count \n",
    "- Return a unique array \n",
    "- Count how many times each element in a list occurs. "
   ]
  },
  {
   "cell_type": "code",
   "execution_count": 6,
   "metadata": {},
   "outputs": [
    {
     "name": "stdout",
     "output_type": "stream",
     "text": [
      "1 : 3 times\n",
      "3 : 2 times\n",
      "2 : 1 times\n",
      "5 : 2 times\n",
      "4 : 1 times\n"
     ]
    }
   ],
   "source": [
    "def remove_duplicates(array): \n",
    "    ## from scratch method :\n",
    "    output = []\n",
    "    for i in array: \n",
    "        if i not in output: \n",
    "            output.append(i)\n",
    "        \n",
    "    ### Using the set method :\n",
    "#     return list (set(array))\n",
    "            \n",
    "    return output\n",
    "\n",
    "remove_duplicates([1, 2, 3, 1])\n",
    "remove_duplicates([1, 3, 2, 1, 5, 3, 5, 1, 4])\n",
    "\n",
    "def counter(array): \n",
    "    unique_array= remove_duplicates(array)\n",
    "    for x in unique_array: \n",
    "        print (x, \":\", array.count(x), \"times\")\n",
    "    \n",
    "    ### Alternative way using list comprehension and pre-existing set\n",
    "#     return [[x, array.count(x)] for x in list(set(array))]\n",
    "\n",
    "counter([1, 3, 2, 1, 5, 3, 5, 1, 4]) \n"
   ]
  },
  {
   "cell_type": "markdown",
   "metadata": {},
   "source": [
    "6. Palindrome Checker "
   ]
  },
  {
   "cell_type": "code",
   "execution_count": 7,
   "metadata": {},
   "outputs": [
    {
     "data": {
      "text/plain": [
       "'No'"
      ]
     },
     "execution_count": 7,
     "metadata": {},
     "output_type": "execute_result"
    }
   ],
   "source": [
    "def is_palindrome(word): \n",
    "    if word== word[::-1]: \n",
    "        return \"Yes\"\n",
    "    else: \n",
    "        return \"No\"\n",
    "    \n",
    "is_palindrome('ololo')\n",
    "is_palindrome('cafe')"
   ]
  },
  {
   "cell_type": "markdown",
   "metadata": {},
   "source": [
    "7. Run Length Encoding: encode each character by the number of times it appears consecutively "
   ]
  },
  {
   "cell_type": "code",
   "execution_count": 8,
   "metadata": {},
   "outputs": [
    {
     "data": {
      "text/plain": [
       "[('a', 4), ('b', 3), ('c', 2), ('a', 1)]"
      ]
     },
     "execution_count": 8,
     "metadata": {},
     "output_type": "execute_result"
    }
   ],
   "source": [
    "### Use groupby to tell you the clustered groupings \n",
    "### the itertools groupby function can also be used for various use cases \n",
    "from itertools import groupby \n",
    "\n",
    "def rle(stringofwords): \n",
    "    output= []\n",
    "    for key,group in groupby(stringofwords): \n",
    "        output.append((key, len(list(group))))\n",
    "    \n",
    "    return output\n",
    "    \n",
    "rle('aaaabbbcca')"
   ]
  },
  {
   "cell_type": "code",
   "execution_count": 22,
   "metadata": {},
   "outputs": [
    {
     "name": "stdout",
     "output_type": "stream",
     "text": [
      "['abc', 'cab']\n",
      "['face']\n",
      "['eat', 'tea']\n",
      "['goo']\n"
     ]
    }
   ],
   "source": [
    "### Anagram Grouper \n",
    "from itertools import groupby \n",
    "\n",
    "def anagram_groups(words): \n",
    "    \n",
    "#     print (sorted(words, key=sorted))\n",
    "    for key, group in groupby(sorted(words, key = sorted), sorted): \n",
    "        print (list(group))\n",
    "\n",
    "anagram_groups(['abc', 'eat', 'face', 'cab', 'tea', 'goo'])"
   ]
  },
  {
   "cell_type": "markdown",
   "metadata": {},
   "source": [
    "8. Two sum \n",
    ". Given an array and a number N, return True if there are numbers A, B in the array such that A + B = N"
   ]
  },
  {
   "cell_type": "code",
   "execution_count": 51,
   "metadata": {},
   "outputs": [
    {
     "name": "stdout",
     "output_type": "stream",
     "text": [
      "3 4\n",
      "3 6\n",
      "4 6\n"
     ]
    },
    {
     "data": {
      "text/plain": [
       "False"
      ]
     },
     "execution_count": 51,
     "metadata": {},
     "output_type": "execute_result"
    }
   ],
   "source": [
    "def two_sum(array, number): \n",
    "    for i in range (0, len(array)): \n",
    "        for j in range (i+1, len(array)): \n",
    "            print (array[i],array[j])\n",
    "            if array[i]+array[j]==number: \n",
    "                return True \n",
    "           \n",
    "    return False\n",
    "          \n",
    "            \n",
    "# two_sum([1, 2, 3, 4], 5 )\n",
    "two_sum([3, 4, 6],6)"
   ]
  },
  {
   "cell_type": "markdown",
   "metadata": {},
   "source": [
    "9. Most frequent outcome\n",
    "- We have dice of 2 different sizes D1 and D2. We roll them and sum their face values. What are the most probable outcomes? "
   ]
  },
  {
   "cell_type": "code",
   "execution_count": 95,
   "metadata": {},
   "outputs": [
    {
     "name": "stdout",
     "output_type": "stream",
     "text": [
      "ModeResult(mode=array([7]), count=array([1648]))\n"
     ]
    }
   ],
   "source": [
    "import random\n",
    "from scipy import stats \n",
    "\n",
    "def frequentoutcome(d1,d2, num_roll): \n",
    "    sum_dice= []\n",
    "    for i in range (num_roll): \n",
    "        dice_1= random.choice (list(range(1,d1+1)))\n",
    "        dice_2= random.choice (list (range(1,d2+1)))\n",
    "#         print (dice_1, dice_2)\n",
    "        sum_dice.append(dice_1+dice_2)\n",
    "\n",
    "    return (sum_dice)\n",
    "\n",
    "array= frequentoutcome(6,6,10000)\n",
    "print(stats.mode(array))\n",
    "# [[x, array.count(x)] for x in list(set(array))]"
   ]
  },
  {
   "cell_type": "markdown",
   "metadata": {},
   "source": [
    "10. Implementation of a Binary Search Algorithm "
   ]
  },
  {
   "cell_type": "code",
   "execution_count": 170,
   "metadata": {},
   "outputs": [],
   "source": [
    "def binary_search(array,low, high, number): \n",
    "    sorted_array= np.sort(array)\n",
    "    length = len(sorted_array)\n",
    "#     print (length)\n",
    "    \n",
    "    mid = (high + low) // 2\n",
    "\n",
    "#     print (mid, sorted_array[mid])\n",
    "    \n",
    "    if sorted_array[mid] == number: \n",
    "        return mid\n",
    "    \n",
    "    elif sorted_array[mid] > number: \n",
    "        return binary_search(sorted_array,low ,mid-1, number)\n",
    "        \n",
    "    elif sorted_array[mid] < number: \n",
    "        return binary_search(sorted_array,mid+1,high , number)\n",
    "    else: \n",
    "        return -1\n",
    "        "
   ]
  },
  {
   "cell_type": "code",
   "execution_count": 173,
   "metadata": {},
   "outputs": [
    {
     "name": "stdout",
     "output_type": "stream",
     "text": [
      "1\n"
     ]
    }
   ],
   "source": [
    "# print (binary_search([1, 4, 6, 10], 4))\n",
    "array= [2, 3, 4, 10, 40 ]\n",
    "print (binary_search( array, 0, len(array),3))"
   ]
  },
  {
   "cell_type": "markdown",
   "metadata": {},
   "source": [
    "11. Find number of words in a string using a dictionary! \n"
   ]
  },
  {
   "cell_type": "code",
   "execution_count": 209,
   "metadata": {},
   "outputs": [
    {
     "data": {
      "text/plain": [
       "{'the': 2,\n",
       " 'quick': 1,\n",
       " 'brown': 1,\n",
       " 'fox': 1,\n",
       " 'jumps': 1,\n",
       " 'over': 1,\n",
       " 'lazy': 1,\n",
       " 'dog.': 1}"
      ]
     },
     "execution_count": 209,
     "metadata": {},
     "output_type": "execute_result"
    }
   ],
   "source": [
    "def num_words (sentence): \n",
    "    split_sentence= sentence.split()\n",
    "    counts= dict()\n",
    "\n",
    "    for word in split_sentence: \n",
    "        if word in counts:\n",
    "            counts[word]+=1\n",
    "        else: \n",
    "            counts[word]=1\n",
    "    return counts\n",
    "\n",
    "num_words(\"the quick brown fox jumps over the lazy dog.\" )"
   ]
  },
  {
   "cell_type": "code",
   "execution_count": null,
   "metadata": {},
   "outputs": [],
   "source": []
  }
 ],
 "metadata": {
  "kernelspec": {
   "display_name": "Python 3",
   "language": "python",
   "name": "python3"
  },
  "language_info": {
   "codemirror_mode": {
    "name": "ipython",
    "version": 3
   },
   "file_extension": ".py",
   "mimetype": "text/x-python",
   "name": "python",
   "nbconvert_exporter": "python",
   "pygments_lexer": "ipython3",
   "version": "3.7.6"
  }
 },
 "nbformat": 4,
 "nbformat_minor": 4
}
