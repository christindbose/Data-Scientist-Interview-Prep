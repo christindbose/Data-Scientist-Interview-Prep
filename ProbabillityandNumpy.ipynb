{
 "cells": [
  {
   "cell_type": "markdown",
   "metadata": {},
   "source": [
    "## How to use Numpy for Probability Simulations\n",
    "\n",
    "Exploration of the different numpy functions which can be used for probability distributions and simulations"
   ]
  },
  {
   "cell_type": "code",
   "execution_count": 53,
   "metadata": {},
   "outputs": [],
   "source": [
    "import numpy as np \n",
    "import matplotlib.pyplot as plt\n",
    "import pandas as pd"
   ]
  },
  {
   "cell_type": "markdown",
   "metadata": {},
   "source": [
    "#### Simulation of a Single Fair coin \n",
    "We have a coin and we want to know the outcome of a few coin flips"
   ]
  },
  {
   "cell_type": "code",
   "execution_count": 50,
   "metadata": {},
   "outputs": [
    {
     "name": "stdout",
     "output_type": "stream",
     "text": [
      "43.0 57.0\n"
     ]
    }
   ],
   "source": [
    "### Coin toss simulation for N coin-tosses\n",
    "## Heads - 0 , Tails - 1 \n",
    "tosses= np.random.randint (0, 2, size= 100)\n",
    "\n",
    "### average # of heads and tails \n",
    "num_heads= sum(tosses==0).mean()\n",
    "num_tails= sum(tosses==1).mean()\n",
    "\n",
    "print (num_heads, num_tails)"
   ]
  },
  {
   "cell_type": "markdown",
   "metadata": {},
   "source": [
    "#### What if you have a Single biased coin? \n",
    " use np.random.CHOICE which allows you to specify the bias "
   ]
  },
  {
   "cell_type": "code",
   "execution_count": 65,
   "metadata": {},
   "outputs": [
    {
     "name": "stdout",
     "output_type": "stream",
     "text": [
      "[0 0 0 0 1 0 0 0 1 1 0 0 0 0 0 0 1 1 1 1 0 0 0 0 0 0 0 0 0 0 0 1 1 0 1 0 1\n",
      " 0 1 0 0 0 1 0 0 0 1 1 1 0 0 0 1 1 0 0 0 0 0 1 0 0 0 1 0 0 0 0 0 0 0 0 1 1\n",
      " 1 1 0 0 0 1 1 1 0 0 1 1 0 0 0 0 0 1 1 0 0 1 1 0 0 0]\n",
      "67.0 33.0\n"
     ]
    }
   ],
   "source": [
    "tosses= np.random.choice ([0, 1], size= 100, p = [0.6, 0.4])\n",
    "print (tosses)\n",
    "### average # of heads and tails from the weighted coin \n",
    "num_heads= sum(tosses==0).mean()\n",
    "num_tails= sum(tosses==1).mean()\n",
    "\n",
    "print (num_heads, num_tails)"
   ]
  },
  {
   "cell_type": "markdown",
   "metadata": {},
   "source": [
    "#### Making a biased coin Fair.\n",
    "We use the Von Neumann approach where we consider pairs of coin toseses.  So HT would be Heads and TH would be Tails. "
   ]
  },
  {
   "cell_type": "code",
   "execution_count": 92,
   "metadata": {},
   "outputs": [],
   "source": [
    "def fairCoin(): \n",
    "    coin1= np.random.choice([0, 1], size= 1, p = [0.7, 0.3])\n",
    "    coin2= np.random.choice([0, 1], size= 1, p = [0.7, 0.3])\n",
    "    if coin1== coin2: \n",
    "        return fairCoin() \n",
    "    elif coin1== 1 and coin2==0: \n",
    "        return 1 \n",
    "    else: \n",
    "        return 0 "
   ]
  },
  {
   "cell_type": "code",
   "execution_count": 104,
   "metadata": {},
   "outputs": [
    {
     "name": "stdout",
     "output_type": "stream",
     "text": [
      "75.0 25.0\n",
      "52 48\n"
     ]
    }
   ],
   "source": [
    "unfairtoss= np.random.choice([0, 1], size= 100, p = [0.7, 0.3])\n",
    "toss= []\n",
    "for i in range (0, 100): \n",
    "    toss.append(fairCoin())\n",
    "\n",
    "unfairnum_heads= sum(unfairtoss==0).mean()\n",
    "unfairnum_tails= sum(unfairtoss==1).mean()\n",
    "print (unfairnum_heads,unfairnum_tails)\n",
    "\n",
    "# print (toss)\n",
    "fairnum_heads= toss.count(0)\n",
    "fairnum_tails= toss.count(1)\n",
    "print (fairnum_heads, fairnum_tails)"
   ]
  },
  {
   "cell_type": "markdown",
   "metadata": {},
   "source": [
    "#### What if I flip 10 coins, 10000 times? What's the probability of exactly 4 heads? \n",
    "\n",
    "This is a binomial distrubution : simulates the number of events, and the probability of success"
   ]
  },
  {
   "cell_type": "code",
   "execution_count": 52,
   "metadata": {},
   "outputs": [
    {
     "data": {
      "text/plain": [
       "1928.0"
      ]
     },
     "execution_count": 52,
     "metadata": {},
     "output_type": "execute_result"
    }
   ],
   "source": [
    "### This gives you the number of heads with a fair coin toss p = 0.5\n",
    "sum(np.random.binomial(10, 0.5,10000)==4).mean()\n"
   ]
  },
  {
   "cell_type": "markdown",
   "metadata": {},
   "source": [
    "### Dice Throwing Simulations\n",
    "#### Question: \n",
    "Two unbiased dice are thrown once and the total score is observed. Find the probabiity that the total score is \n",
    "- even OR \n",
    "- greater than 7"
   ]
  },
  {
   "cell_type": "code",
   "execution_count": 190,
   "metadata": {},
   "outputs": [
    {
     "data": {
      "text/plain": [
       "0.66"
      ]
     },
     "execution_count": 190,
     "metadata": {},
     "output_type": "execute_result"
    }
   ],
   "source": [
    "import random \n",
    "\n",
    "def roll_dice (trials): \n",
    "    i= 0 \n",
    "    count = 0 \n",
    "    \n",
    "    while i < trials: \n",
    "        dice_1= random.choice ([1,2,3,4,5,6])\n",
    "        dice_2= random.choice ([1,2,3,4,5,6])\n",
    "        \n",
    "        if (dice_1+dice_2)%2 == 0: \n",
    "            count += 1\n",
    "        elif (dice_1+dice_2) >7: \n",
    "            count += 1 \n",
    "        \n",
    "        i+=1 \n",
    "    return float(count/i)\n",
    "\n",
    "roll_dice (1000)"
   ]
  },
  {
   "cell_type": "markdown",
   "metadata": {},
   "source": [
    "#### Question: \n",
    "Amy and Brad take turns in rolling a fair six-sided die. Whoever rolls a “6” first wins the game. Amy starts by rolling first. What’s the probability that Amy wins?"
   ]
  },
  {
   "cell_type": "code",
   "execution_count": 189,
   "metadata": {},
   "outputs": [
    {
     "name": "stdout",
     "output_type": "stream",
     "text": [
      "0.5457413249211357\n"
     ]
    }
   ],
   "source": [
    "def dice_roll(trial): \n",
    "    \n",
    "    amy_count= 0\n",
    "    brad_count= 0 \n",
    "    i=0\n",
    "    while i <trial: \n",
    "        ### Amy rolls first \n",
    "        dice_amy= np.random.choice([1,2,3,4,5,6])\n",
    "        \n",
    "        ## if Amy rolls a 6, she wins immediately\n",
    "        if dice_amy == 6: \n",
    "            amy_count += 1 \n",
    "            \n",
    "        ## if she doesn't win, Brad gets to roll his dice\n",
    "        else: \n",
    "            dice_brad = np.random.choice([1,2,3,4,5,6])\n",
    "            if dice_brad == 6: \n",
    "                brad_count += 1\n",
    "        \n",
    "        ## if neither of them win, we move on to the next round\n",
    "        i+= 1 \n",
    "        \n",
    "    ### you want to divide Amy's wins with both their wins, not the number of trials\n",
    "    ### this is because there are times that Amy and Brad BOTH don't win a point \n",
    "#     print (amy_count, brad_count)\n",
    "    return (amy_count/( amy_count+ brad_count))\n",
    "   \n",
    "print( dice_roll(1000))  "
   ]
  },
  {
   "cell_type": "markdown",
   "metadata": {},
   "source": [
    "#### Question\n",
    "A box contains 10 white balls, 20 reds and 30 greens. \n",
    "Draw 5 balls with replacement. What is the probability that we get :\n",
    "* A.  3 white or 2 red\n",
    "* B.  All 5 of the same color"
   ]
  },
  {
   "cell_type": "code",
   "execution_count": 194,
   "metadata": {},
   "outputs": [
    {
     "name": "stdout",
     "output_type": "stream",
     "text": [
      "0.37\n",
      "0.05\n"
     ]
    }
   ],
   "source": [
    "total_balls= 60 \n",
    "\n",
    "### lets create a bag which has all balls! \n",
    "bagofballs={}  ## create a dictionary\n",
    "\n",
    "for i in range (total_balls): \n",
    "    if i <10 : \n",
    "        bagofballs[i]= 'white'\n",
    "    elif i>9 and i <30: \n",
    "        bagofballs[i]= 'red'\n",
    "    else: \n",
    "        bagofballs[i]= 'green'\n",
    "    \n",
    "## Lets run 100 trials \n",
    "\n",
    "trials= 100 \n",
    "\n",
    "### we want to see how many counts we get for each situation listed above\n",
    "prob_a = 0 \n",
    "prob_b= 0 \n",
    "\n",
    "for j in range(0, trials): \n",
    "    pickedballs = []\n",
    "    ## Pick 5 balls from the bag and append into our picked balls\n",
    "    for balls in range(5): \n",
    "        pickedballs.append(bagofballs[random.randint(0,total_balls-1)])\n",
    "    \n",
    "    pickedballs= np.array(pickedballs)\n",
    "\n",
    "    num_white= sum(pickedballs=='white')\n",
    "    num_red= sum (pickedballs=='red')\n",
    "    num_green= sum(pickedballs== 'green')\n",
    "    \n",
    "    if num_white== 3 or num_red == 2: \n",
    "        prob_a+= 1 \n",
    "        \n",
    "    elif num_white== 5 or num_red == 5 or num_green==5: \n",
    "        prob_b+=1 \n",
    "        \n",
    "print (prob_a/trials)\n",
    "print (prob_b/trials)"
   ]
  },
  {
   "cell_type": "markdown",
   "metadata": {},
   "source": [
    "Simulation of two marbles (red and green) without replacement"
   ]
  },
  {
   "cell_type": "code",
   "execution_count": 186,
   "metadata": {},
   "outputs": [
    {
     "name": "stdout",
     "output_type": "stream",
     "text": [
      "(499.0, 500.5)\n"
     ]
    }
   ],
   "source": [
    "def pull_marbles(sample, population):\n",
    "    red = population / 2\n",
    "    green = (population+1) / 2  # round up just to ensure red+green == population\n",
    "    for i in range(sample):\n",
    "        choice = np.random.randint(1, red + green)\n",
    "        if choice <= red:  # red pulled\n",
    "            red -= 1\n",
    "        else:\n",
    "            green -= 1\n",
    "        return (red, green)\n",
    "    \n",
    "print (pull_marbles (5, 1000))"
   ]
  },
  {
   "cell_type": "markdown",
   "metadata": {},
   "source": [
    "### Random Question for Funs \n",
    "Given an integer n, return the number of trailing zeroes in n!"
   ]
  },
  {
   "cell_type": "code",
   "execution_count": 145,
   "metadata": {},
   "outputs": [],
   "source": [
    "a= [1,2,3,4,5]\n",
    "print (a[::-1])"
   ]
  },
  {
   "cell_type": "code",
   "execution_count": 152,
   "metadata": {},
   "outputs": [],
   "source": [
    "def trailing_zeros(number):\n",
    "    fac_num= np.math.factorial(number)\n",
    "#     print (fac_num)\n",
    "    inv_facnum= str(fac_num)[::-1]\n",
    "    count= 0 \n",
    "\n",
    "    for i in inv_facnum: \n",
    "        if i == '0': \n",
    "            count+=1 \n",
    "        else: \n",
    "            break \n",
    "    return count \n"
   ]
  },
  {
   "cell_type": "code",
   "execution_count": 151,
   "metadata": {},
   "outputs": [
    {
     "name": "stdout",
     "output_type": "stream",
     "text": [
      "788657867364790503552363213932185062295135977687173263294742533244359449963403342920304284011984623904177212138919638830257642790242637105061926624952829931113462857270763317237396988943922445621451664240254033291864131227428294853277524242407573903240321257405579568660226031904170324062351700858796178922222789623703897374720000000000000000000000000000000000000000000000000\n"
     ]
    },
    {
     "data": {
      "text/plain": [
       "49"
      ]
     },
     "execution_count": 151,
     "metadata": {},
     "output_type": "execute_result"
    }
   ],
   "source": [
    "trailing_zeros(200)"
   ]
  },
  {
   "cell_type": "markdown",
   "metadata": {},
   "source": [
    "### A geometric distribution.. number of observations until a success\n",
    "#### Question \n",
    "You have a group of 1000 couples that decide to have children until they have their first girl, after which they stop having children.  What is the expected number of children each couple will have?"
   ]
  },
  {
   "cell_type": "code",
   "execution_count": 64,
   "metadata": {},
   "outputs": [
    {
     "data": {
      "text/plain": [
       "1.954"
      ]
     },
     "execution_count": 64,
     "metadata": {},
     "output_type": "execute_result"
    }
   ],
   "source": [
    "z= np.random.geometric (p=0.5, size = 1000)\n",
    "z.mean()"
   ]
  },
  {
   "cell_type": "markdown",
   "metadata": {},
   "source": [
    "### A Poisson distribution: \n",
    "Models occurences of events that could happen a very large number of times, but happen rarely\n",
    "- How probable is it that a certain number of events happen in a fixed interval. ASsumes events happen at a constant rate \n"
   ]
  },
  {
   "cell_type": "code",
   "execution_count": 122,
   "metadata": {},
   "outputs": [],
   "source": [
    "seq= np.random.poisson (500, 1000) ###lam is the expected value in a Poisson "
   ]
  },
  {
   "cell_type": "markdown",
   "metadata": {},
   "source": [
    "#### 2. DataFrame Tips and Tricks"
   ]
  },
  {
   "cell_type": "code",
   "execution_count": null,
   "metadata": {},
   "outputs": [],
   "source": [
    "df.(booleancolumn).sum() ### <- gives you instances of the True events in the boolean column \n",
    "df.(booleancolumn).mean() ### <- gives you proportion of the True events in the bool column\n",
    "\n",
    "(df.query ('boolcol')['predictorcolumn'] == 'Positive' ).mean() ## <-- gives you a conditional probability \n"
   ]
  }
 ],
 "metadata": {
  "kernelspec": {
   "display_name": "Python 3",
   "language": "python",
   "name": "python3"
  },
  "language_info": {
   "codemirror_mode": {
    "name": "ipython",
    "version": 3
   },
   "file_extension": ".py",
   "mimetype": "text/x-python",
   "name": "python",
   "nbconvert_exporter": "python",
   "pygments_lexer": "ipython3",
   "version": "3.7.6"
  }
 },
 "nbformat": 4,
 "nbformat_minor": 4
}
